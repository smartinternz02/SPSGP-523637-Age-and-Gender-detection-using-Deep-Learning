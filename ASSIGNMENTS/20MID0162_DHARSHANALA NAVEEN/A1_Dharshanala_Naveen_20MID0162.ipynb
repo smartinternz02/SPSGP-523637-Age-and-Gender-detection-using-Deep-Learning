{
  "nbformat": 4,
  "nbformat_minor": 0,
  "metadata": {
    "colab": {
      "provenance": []
    },
    "kernelspec": {
      "name": "python3",
      "display_name": "Python 3"
    },
    "language_info": {
      "name": "python"
    }
  },
  "cells": [
    {
      "cell_type": "code",
      "execution_count": 1,
      "metadata": {
        "colab": {
          "base_uri": "https://localhost:8080/"
        },
        "id": "9m1U_yqDZXKO",
        "outputId": "f6a37019-fa68-400b-a2da-a5df9bfebb24"
      },
      "outputs": [
        {
          "output_type": "stream",
          "name": "stdout",
          "text": [
            "               Feature 1  Feature 2  Feature 3  Feature 4\n",
            "Observation 1   0.365801   0.701546   0.023538   0.942593\n",
            "Observation 2   0.786310   0.435134   0.832996   0.291326\n",
            "Observation 3   0.727115   0.006884   0.901064   0.114024\n",
            "Observation 4   0.901571   0.479000   0.378563   0.046067\n"
          ]
        }
      ],
      "source": [
        "import numpy as np\n",
        "import pandas as pd\n",
        "#generatung random values\n",
        "d = np.random.rand(4, 4)\n",
        "# Creating a DataFrame\n",
        "df = pd.DataFrame(d, columns=['Feature 1', 'Feature 2', 'Feature 3', 'Feature 4'], index =['Observation 1','Observation 2','Observation 3','Observation 4'])\n",
        "# Print the DataFrame\n",
        "print(df)"
      ]
    },
    {
      "cell_type": "code",
      "source": [
        "import numpy as np\n",
        "import pandas as pd\n",
        "#Renaming Columns\n",
        "df = df.rename(columns = {'Feature 1' : 'Random Value 1',\n",
        " 'Feature 2' : 'Random Value 2',\n",
        "'Feature 3' : 'Random Value 3',\n",
        "'Feature 4' : 'Random Value 4'})\n",
        "# Print the DataFrame\n",
        "print(df)"
      ],
      "metadata": {
        "colab": {
          "base_uri": "https://localhost:8080/"
        },
        "id": "yggfBU8eZnuN",
        "outputId": "f2d92cd6-dd18-44c5-aa71-a3c2474edce3"
      },
      "execution_count": 2,
      "outputs": [
        {
          "output_type": "stream",
          "name": "stdout",
          "text": [
            "               Random Value 1  Random Value 2  Random Value 3  Random Value 4\n",
            "Observation 1        0.365801        0.701546        0.023538        0.942593\n",
            "Observation 2        0.786310        0.435134        0.832996        0.291326\n",
            "Observation 3        0.727115        0.006884        0.901064        0.114024\n",
            "Observation 4        0.901571        0.479000        0.378563        0.046067\n"
          ]
        }
      ]
    },
    {
      "cell_type": "code",
      "source": [
        "import numpy as np\n",
        "import pandas as pd\n",
        "#To describe the Statistical Description\n",
        "stat = df.describe()\n",
        "# Print the DataFrame\n",
        "print(df)\n",
        "print('\\n')\n",
        "print(stat)"
      ],
      "metadata": {
        "colab": {
          "base_uri": "https://localhost:8080/"
        },
        "id": "R9t1D34EZqg_",
        "outputId": "8df53151-9946-47cc-9c2f-099dcb87064f"
      },
      "execution_count": 3,
      "outputs": [
        {
          "output_type": "stream",
          "name": "stdout",
          "text": [
            "               Random Value 1  Random Value 2  Random Value 3  Random Value 4\n",
            "Observation 1        0.365801        0.701546        0.023538        0.942593\n",
            "Observation 2        0.786310        0.435134        0.832996        0.291326\n",
            "Observation 3        0.727115        0.006884        0.901064        0.114024\n",
            "Observation 4        0.901571        0.479000        0.378563        0.046067\n",
            "\n",
            "\n",
            "       Random Value 1  Random Value 2  Random Value 3  Random Value 4\n",
            "count        4.000000        4.000000        4.000000        4.000000\n",
            "mean         0.695199        0.405641        0.534040        0.348503\n",
            "std          0.231238        0.290298        0.411852        0.409333\n",
            "min          0.365801        0.006884        0.023538        0.046067\n",
            "25%          0.636786        0.328071        0.289807        0.097035\n",
            "50%          0.756712        0.457067        0.605780        0.202675\n",
            "75%          0.815126        0.534636        0.850013        0.454143\n",
            "max          0.901571        0.701546        0.901064        0.942593\n"
          ]
        }
      ]
    },
    {
      "cell_type": "code",
      "source": [
        "import numpy as np\n",
        "import pandas as pd\n",
        "#Checking NULL values\n",
        "null_val = df.isnull().sum()\n",
        "#Checking the Data types\n",
        "data_type = df.dtypes\n",
        "# Print the DataFrame\n",
        "print(null_val)\n",
        "print('\\n')\n",
        "print(data_type)"
      ],
      "metadata": {
        "colab": {
          "base_uri": "https://localhost:8080/"
        },
        "id": "WVdzLLjwZtXn",
        "outputId": "36da5b6f-b1b1-4234-9693-e4ab4bb3bf98"
      },
      "execution_count": 4,
      "outputs": [
        {
          "output_type": "stream",
          "name": "stdout",
          "text": [
            "Random Value 1    0\n",
            "Random Value 2    0\n",
            "Random Value 3    0\n",
            "Random Value 4    0\n",
            "dtype: int64\n",
            "\n",
            "\n",
            "Random Value 1    float64\n",
            "Random Value 2    float64\n",
            "Random Value 3    float64\n",
            "Random Value 4    float64\n",
            "dtype: object\n"
          ]
        }
      ]
    },
    {
      "cell_type": "code",
      "source": [
        "import numpy as np\n",
        "import pandas as pd\n",
        "# Display columns using the location method\n",
        "location_method = df[['Random Value 2', 'Random Value 3']]\n",
        "print(\"Columns using location method:\")\n",
        "print(location_method)\n",
        "# Display columns using the index location method\n",
        "index_location_method = df.iloc[:, 1:3]\n",
        "print(\"\\nColumns using index location method :\")\n",
        "print(index_location_method)"
      ],
      "metadata": {
        "id": "xp29BZnlZwVN",
        "outputId": "b0a32bd8-5f60-4398-ba6b-ae0f32f97fed",
        "colab": {
          "base_uri": "https://localhost:8080/"
        }
      },
      "execution_count": 5,
      "outputs": [
        {
          "output_type": "stream",
          "name": "stdout",
          "text": [
            "Columns using location method:\n",
            "               Random Value 2  Random Value 3\n",
            "Observation 1        0.701546        0.023538\n",
            "Observation 2        0.435134        0.832996\n",
            "Observation 3        0.006884        0.901064\n",
            "Observation 4        0.479000        0.378563\n",
            "\n",
            "Columns using index location method :\n",
            "               Random Value 2  Random Value 3\n",
            "Observation 1        0.701546        0.023538\n",
            "Observation 2        0.435134        0.832996\n",
            "Observation 3        0.006884        0.901064\n",
            "Observation 4        0.479000        0.378563\n"
          ]
        }
      ]
    }
  ]
}